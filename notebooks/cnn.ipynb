{
 "cells": [
  {
   "cell_type": "code",
   "execution_count": 4,
   "metadata": {},
   "outputs": [
    {
     "data": {
      "text/html": [
       "<pre style=\"white-space:pre;overflow-x:auto;line-height:normal;font-family:Menlo,'DejaVu Sans Mono',consolas,'Courier New',monospace\"><span style=\"font-weight: bold\">Model: \"WildfireCNN\"</span>\n",
       "</pre>\n"
      ],
      "text/plain": [
       "\u001b[1mModel: \"WildfireCNN\"\u001b[0m\n"
      ]
     },
     "metadata": {},
     "output_type": "display_data"
    },
    {
     "data": {
      "text/html": [
       "<pre style=\"white-space:pre;overflow-x:auto;line-height:normal;font-family:Menlo,'DejaVu Sans Mono',consolas,'Courier New',monospace\">┏━━━━━━━━━━━━━━━━━━━━━━━━━━━━━━━━━┳━━━━━━━━━━━━━━━━━━━━━━━━┳━━━━━━━━━━━━━━━┓\n",
       "┃<span style=\"font-weight: bold\"> Layer (type)                    </span>┃<span style=\"font-weight: bold\"> Output Shape           </span>┃<span style=\"font-weight: bold\">       Param # </span>┃\n",
       "┡━━━━━━━━━━━━━━━━━━━━━━━━━━━━━━━━━╇━━━━━━━━━━━━━━━━━━━━━━━━╇━━━━━━━━━━━━━━━┩\n",
       "│ input_layer (<span style=\"color: #0087ff; text-decoration-color: #0087ff\">InputLayer</span>)        │ (<span style=\"color: #00d7ff; text-decoration-color: #00d7ff\">None</span>, <span style=\"color: #00af00; text-decoration-color: #00af00\">64</span>, <span style=\"color: #00af00; text-decoration-color: #00af00\">64</span>, <span style=\"color: #00af00; text-decoration-color: #00af00\">3</span>)      │             <span style=\"color: #00af00; text-decoration-color: #00af00\">0</span> │\n",
       "├─────────────────────────────────┼────────────────────────┼───────────────┤\n",
       "│ conv2d_6 (<span style=\"color: #0087ff; text-decoration-color: #0087ff\">Conv2D</span>)               │ (<span style=\"color: #00d7ff; text-decoration-color: #00d7ff\">None</span>, <span style=\"color: #00af00; text-decoration-color: #00af00\">64</span>, <span style=\"color: #00af00; text-decoration-color: #00af00\">64</span>, <span style=\"color: #00af00; text-decoration-color: #00af00\">16</span>)     │           <span style=\"color: #00af00; text-decoration-color: #00af00\">448</span> │\n",
       "├─────────────────────────────────┼────────────────────────┼───────────────┤\n",
       "│ max_pooling2d_6 (<span style=\"color: #0087ff; text-decoration-color: #0087ff\">MaxPooling2D</span>)  │ (<span style=\"color: #00d7ff; text-decoration-color: #00d7ff\">None</span>, <span style=\"color: #00af00; text-decoration-color: #00af00\">32</span>, <span style=\"color: #00af00; text-decoration-color: #00af00\">32</span>, <span style=\"color: #00af00; text-decoration-color: #00af00\">16</span>)     │             <span style=\"color: #00af00; text-decoration-color: #00af00\">0</span> │\n",
       "├─────────────────────────────────┼────────────────────────┼───────────────┤\n",
       "│ conv2d_7 (<span style=\"color: #0087ff; text-decoration-color: #0087ff\">Conv2D</span>)               │ (<span style=\"color: #00d7ff; text-decoration-color: #00d7ff\">None</span>, <span style=\"color: #00af00; text-decoration-color: #00af00\">32</span>, <span style=\"color: #00af00; text-decoration-color: #00af00\">32</span>, <span style=\"color: #00af00; text-decoration-color: #00af00\">32</span>)     │         <span style=\"color: #00af00; text-decoration-color: #00af00\">4,640</span> │\n",
       "├─────────────────────────────────┼────────────────────────┼───────────────┤\n",
       "│ max_pooling2d_7 (<span style=\"color: #0087ff; text-decoration-color: #0087ff\">MaxPooling2D</span>)  │ (<span style=\"color: #00d7ff; text-decoration-color: #00d7ff\">None</span>, <span style=\"color: #00af00; text-decoration-color: #00af00\">16</span>, <span style=\"color: #00af00; text-decoration-color: #00af00\">16</span>, <span style=\"color: #00af00; text-decoration-color: #00af00\">32</span>)     │             <span style=\"color: #00af00; text-decoration-color: #00af00\">0</span> │\n",
       "├─────────────────────────────────┼────────────────────────┼───────────────┤\n",
       "│ conv2d_8 (<span style=\"color: #0087ff; text-decoration-color: #0087ff\">Conv2D</span>)               │ (<span style=\"color: #00d7ff; text-decoration-color: #00d7ff\">None</span>, <span style=\"color: #00af00; text-decoration-color: #00af00\">16</span>, <span style=\"color: #00af00; text-decoration-color: #00af00\">16</span>, <span style=\"color: #00af00; text-decoration-color: #00af00\">64</span>)     │        <span style=\"color: #00af00; text-decoration-color: #00af00\">18,496</span> │\n",
       "├─────────────────────────────────┼────────────────────────┼───────────────┤\n",
       "│ max_pooling2d_8 (<span style=\"color: #0087ff; text-decoration-color: #0087ff\">MaxPooling2D</span>)  │ (<span style=\"color: #00d7ff; text-decoration-color: #00d7ff\">None</span>, <span style=\"color: #00af00; text-decoration-color: #00af00\">8</span>, <span style=\"color: #00af00; text-decoration-color: #00af00\">8</span>, <span style=\"color: #00af00; text-decoration-color: #00af00\">64</span>)       │             <span style=\"color: #00af00; text-decoration-color: #00af00\">0</span> │\n",
       "├─────────────────────────────────┼────────────────────────┼───────────────┤\n",
       "│ flatten_2 (<span style=\"color: #0087ff; text-decoration-color: #0087ff\">Flatten</span>)             │ (<span style=\"color: #00d7ff; text-decoration-color: #00d7ff\">None</span>, <span style=\"color: #00af00; text-decoration-color: #00af00\">4096</span>)           │             <span style=\"color: #00af00; text-decoration-color: #00af00\">0</span> │\n",
       "├─────────────────────────────────┼────────────────────────┼───────────────┤\n",
       "│ dense_4 (<span style=\"color: #0087ff; text-decoration-color: #0087ff\">Dense</span>)                 │ (<span style=\"color: #00d7ff; text-decoration-color: #00d7ff\">None</span>, <span style=\"color: #00af00; text-decoration-color: #00af00\">128</span>)            │       <span style=\"color: #00af00; text-decoration-color: #00af00\">524,416</span> │\n",
       "├─────────────────────────────────┼────────────────────────┼───────────────┤\n",
       "│ dense_5 (<span style=\"color: #0087ff; text-decoration-color: #0087ff\">Dense</span>)                 │ (<span style=\"color: #00d7ff; text-decoration-color: #00d7ff\">None</span>, <span style=\"color: #00af00; text-decoration-color: #00af00\">1</span>)              │           <span style=\"color: #00af00; text-decoration-color: #00af00\">129</span> │\n",
       "└─────────────────────────────────┴────────────────────────┴───────────────┘\n",
       "</pre>\n"
      ],
      "text/plain": [
       "┏━━━━━━━━━━━━━━━━━━━━━━━━━━━━━━━━━┳━━━━━━━━━━━━━━━━━━━━━━━━┳━━━━━━━━━━━━━━━┓\n",
       "┃\u001b[1m \u001b[0m\u001b[1mLayer (type)                   \u001b[0m\u001b[1m \u001b[0m┃\u001b[1m \u001b[0m\u001b[1mOutput Shape          \u001b[0m\u001b[1m \u001b[0m┃\u001b[1m \u001b[0m\u001b[1m      Param #\u001b[0m\u001b[1m \u001b[0m┃\n",
       "┡━━━━━━━━━━━━━━━━━━━━━━━━━━━━━━━━━╇━━━━━━━━━━━━━━━━━━━━━━━━╇━━━━━━━━━━━━━━━┩\n",
       "│ input_layer (\u001b[38;5;33mInputLayer\u001b[0m)        │ (\u001b[38;5;45mNone\u001b[0m, \u001b[38;5;34m64\u001b[0m, \u001b[38;5;34m64\u001b[0m, \u001b[38;5;34m3\u001b[0m)      │             \u001b[38;5;34m0\u001b[0m │\n",
       "├─────────────────────────────────┼────────────────────────┼───────────────┤\n",
       "│ conv2d_6 (\u001b[38;5;33mConv2D\u001b[0m)               │ (\u001b[38;5;45mNone\u001b[0m, \u001b[38;5;34m64\u001b[0m, \u001b[38;5;34m64\u001b[0m, \u001b[38;5;34m16\u001b[0m)     │           \u001b[38;5;34m448\u001b[0m │\n",
       "├─────────────────────────────────┼────────────────────────┼───────────────┤\n",
       "│ max_pooling2d_6 (\u001b[38;5;33mMaxPooling2D\u001b[0m)  │ (\u001b[38;5;45mNone\u001b[0m, \u001b[38;5;34m32\u001b[0m, \u001b[38;5;34m32\u001b[0m, \u001b[38;5;34m16\u001b[0m)     │             \u001b[38;5;34m0\u001b[0m │\n",
       "├─────────────────────────────────┼────────────────────────┼───────────────┤\n",
       "│ conv2d_7 (\u001b[38;5;33mConv2D\u001b[0m)               │ (\u001b[38;5;45mNone\u001b[0m, \u001b[38;5;34m32\u001b[0m, \u001b[38;5;34m32\u001b[0m, \u001b[38;5;34m32\u001b[0m)     │         \u001b[38;5;34m4,640\u001b[0m │\n",
       "├─────────────────────────────────┼────────────────────────┼───────────────┤\n",
       "│ max_pooling2d_7 (\u001b[38;5;33mMaxPooling2D\u001b[0m)  │ (\u001b[38;5;45mNone\u001b[0m, \u001b[38;5;34m16\u001b[0m, \u001b[38;5;34m16\u001b[0m, \u001b[38;5;34m32\u001b[0m)     │             \u001b[38;5;34m0\u001b[0m │\n",
       "├─────────────────────────────────┼────────────────────────┼───────────────┤\n",
       "│ conv2d_8 (\u001b[38;5;33mConv2D\u001b[0m)               │ (\u001b[38;5;45mNone\u001b[0m, \u001b[38;5;34m16\u001b[0m, \u001b[38;5;34m16\u001b[0m, \u001b[38;5;34m64\u001b[0m)     │        \u001b[38;5;34m18,496\u001b[0m │\n",
       "├─────────────────────────────────┼────────────────────────┼───────────────┤\n",
       "│ max_pooling2d_8 (\u001b[38;5;33mMaxPooling2D\u001b[0m)  │ (\u001b[38;5;45mNone\u001b[0m, \u001b[38;5;34m8\u001b[0m, \u001b[38;5;34m8\u001b[0m, \u001b[38;5;34m64\u001b[0m)       │             \u001b[38;5;34m0\u001b[0m │\n",
       "├─────────────────────────────────┼────────────────────────┼───────────────┤\n",
       "│ flatten_2 (\u001b[38;5;33mFlatten\u001b[0m)             │ (\u001b[38;5;45mNone\u001b[0m, \u001b[38;5;34m4096\u001b[0m)           │             \u001b[38;5;34m0\u001b[0m │\n",
       "├─────────────────────────────────┼────────────────────────┼───────────────┤\n",
       "│ dense_4 (\u001b[38;5;33mDense\u001b[0m)                 │ (\u001b[38;5;45mNone\u001b[0m, \u001b[38;5;34m128\u001b[0m)            │       \u001b[38;5;34m524,416\u001b[0m │\n",
       "├─────────────────────────────────┼────────────────────────┼───────────────┤\n",
       "│ dense_5 (\u001b[38;5;33mDense\u001b[0m)                 │ (\u001b[38;5;45mNone\u001b[0m, \u001b[38;5;34m1\u001b[0m)              │           \u001b[38;5;34m129\u001b[0m │\n",
       "└─────────────────────────────────┴────────────────────────┴───────────────┘\n"
      ]
     },
     "metadata": {},
     "output_type": "display_data"
    },
    {
     "data": {
      "text/html": [
       "<pre style=\"white-space:pre;overflow-x:auto;line-height:normal;font-family:Menlo,'DejaVu Sans Mono',consolas,'Courier New',monospace\"><span style=\"font-weight: bold\"> Total params: </span><span style=\"color: #00af00; text-decoration-color: #00af00\">548,129</span> (2.09 MB)\n",
       "</pre>\n"
      ],
      "text/plain": [
       "\u001b[1m Total params: \u001b[0m\u001b[38;5;34m548,129\u001b[0m (2.09 MB)\n"
      ]
     },
     "metadata": {},
     "output_type": "display_data"
    },
    {
     "data": {
      "text/html": [
       "<pre style=\"white-space:pre;overflow-x:auto;line-height:normal;font-family:Menlo,'DejaVu Sans Mono',consolas,'Courier New',monospace\"><span style=\"font-weight: bold\"> Trainable params: </span><span style=\"color: #00af00; text-decoration-color: #00af00\">548,129</span> (2.09 MB)\n",
       "</pre>\n"
      ],
      "text/plain": [
       "\u001b[1m Trainable params: \u001b[0m\u001b[38;5;34m548,129\u001b[0m (2.09 MB)\n"
      ]
     },
     "metadata": {},
     "output_type": "display_data"
    },
    {
     "data": {
      "text/html": [
       "<pre style=\"white-space:pre;overflow-x:auto;line-height:normal;font-family:Menlo,'DejaVu Sans Mono',consolas,'Courier New',monospace\"><span style=\"font-weight: bold\"> Non-trainable params: </span><span style=\"color: #00af00; text-decoration-color: #00af00\">0</span> (0.00 B)\n",
       "</pre>\n"
      ],
      "text/plain": [
       "\u001b[1m Non-trainable params: \u001b[0m\u001b[38;5;34m0\u001b[0m (0.00 B)\n"
      ]
     },
     "metadata": {},
     "output_type": "display_data"
    },
    {
     "name": "stdout",
     "output_type": "stream",
     "text": [
      "Epoch 1/2\n",
      "\u001b[1m2/2\u001b[0m \u001b[32m━━━━━━━━━━━━━━━━━━━━\u001b[0m\u001b[37m\u001b[0m \u001b[1m0s\u001b[0m 11ms/step - accuracy: 0.7500 - loss: 0.6984 \n",
      "Epoch 2/2\n",
      "\u001b[1m2/2\u001b[0m \u001b[32m━━━━━━━━━━━━━━━━━━━━\u001b[0m\u001b[37m\u001b[0m \u001b[1m0s\u001b[0m 11ms/step - accuracy: 0.7500 - loss: 0.6124\n"
     ]
    }
   ],
   "source": [
    "import tensorflow as tf\n",
    "from tensorflow.keras import layers, Model\n",
    "\n",
    "def create_wildfire_cnn(input_shape=(64, 64, 3)):\n",
    "    \"\"\"\n",
    "    Creates a CNN model that can be used to predict wildfire spread probability \n",
    "    or any similar scalar metric relevant to fire percolation.\n",
    "\n",
    "    Parameters\n",
    "    ----------\n",
    "    input_shape : tuple\n",
    "        Shape of the input tensor, including channels (default is (64, 64, 3)).\n",
    "\n",
    "    Returns\n",
    "    -------\n",
    "    model : tf.keras.Model\n",
    "        A compiled Keras model ready for training.\n",
    "    \"\"\"\n",
    "    \n",
    "    # Define model input\n",
    "    inputs = tf.keras.Input(shape=input_shape, name=\"input_layer\")\n",
    "    \n",
    "    # Convolutional block 1\n",
    "    x = layers.Conv2D(filters=16, kernel_size=(3, 3), padding='same', activation='relu')(inputs)\n",
    "    x = layers.MaxPooling2D(pool_size=(2, 2))(x)\n",
    "    \n",
    "    # Convolutional block 2\n",
    "    x = layers.Conv2D(filters=32, kernel_size=(3, 3), padding='same', activation='relu')(x)\n",
    "    x = layers.MaxPooling2D(pool_size=(2, 2))(x)\n",
    "    \n",
    "    # Convolutional block 3\n",
    "    x = layers.Conv2D(filters=64, kernel_size=(3, 3), padding='same', activation='relu')(x)\n",
    "    x = layers.MaxPooling2D(pool_size=(2, 2))(x)\n",
    "\n",
    "    # Flatten the features\n",
    "    x = layers.Flatten()(x)\n",
    "    \n",
    "    # Fully connected layer(s)\n",
    "    x = layers.Dense(units=128, activation='relu')(x)\n",
    "    \n",
    "    # Output layer\n",
    "    # For a single scalar probability, use a single unit + sigmoid.\n",
    "    # For a map output, you would use a different shape (e.g., (h*w) or (h, w, 1)) \n",
    "    # and possibly no flatten, to keep the spatial resolution.\n",
    "    outputs = layers.Dense(units=1, activation='sigmoid')(x)\n",
    "    \n",
    "    model = Model(inputs=inputs, outputs=outputs, name=\"WildfireCNN\")\n",
    "    \n",
    "    # Compile the model\n",
    "    #   - Binary crossentropy is a common choice if you're predicting a binary outcome\n",
    "    #     (e.g., will this patch catch fire?). \n",
    "    #   - For multi-class or more complex tasks, change as needed.\n",
    "    model.compile(\n",
    "        optimizer=tf.keras.optimizers.Adam(learning_rate=1e-3),\n",
    "        loss='binary_crossentropy',\n",
    "        metrics=['accuracy']\n",
    "    )\n",
    "    \n",
    "    return model\n",
    "\n",
    "# # Example usage:\n",
    "# if __name__ == \"__main__\":\n",
    "#     # Create the CNN\n",
    "#     model = create_wildfire_cnn(input_shape=(64, 64, 3))\n",
    "#     model.summary()\n",
    "\n",
    "#     # Synthetic example data (batch_size=8, 64x64 images, 3 channels)\n",
    "#     import numpy as np\n",
    "#     X_dummy = np.random.rand(8, 64, 64, 3).astype('float32')\n",
    "#     y_dummy = np.random.randint(0, 2, size=(8, 1)).astype('float32')\n",
    "\n",
    "#     # Train on dummy data (just for demonstration)\n",
    "#     model.fit(X_dummy, y_dummy, epochs=2, batch_size=4)"
   ]
  },
  {
   "cell_type": "code",
   "execution_count": 2,
   "metadata": {},
   "outputs": [],
   "source": [
    "import rasterio\n",
    "import numpy as np\n",
    "\n",
    "def load_fuel_data(geotiff_path, bounding_box=None, out_shape=(64, 64)):\n",
    "    \"\"\"\n",
    "    Load and preprocess fuel/land cover data from a GeoTIFF file.\n",
    "    - bounding_box: (minX, minY, maxX, maxY) in the raster's CRS\n",
    "    - out_shape: desired (height, width) for final array\n",
    "    \n",
    "    Returns:\n",
    "    -------\n",
    "    fuel_array : np.ndarray of shape (64, 64)\n",
    "        Resampled 2D array representing fuel or land cover.\n",
    "    \"\"\"\n",
    "    with rasterio.open(geotiff_path) as src:\n",
    "        # If bounding_box is specified, read only that window\n",
    "        if bounding_box:\n",
    "            # Convert bounding box to rasterio window\n",
    "            # This step requires coordinate transformations as needed\n",
    "            window = rasterio.windows.from_bounds(*bounding_box, transform=src.transform)\n",
    "            data = src.read(1, window=window, out_shape=out_shape, resampling=rasterio.enums.Resampling.bilinear)\n",
    "        else:\n",
    "            # Read entire raster and then resample\n",
    "            data = src.read(1)\n",
    "            \n",
    "            # Resample to out_shape if needed\n",
    "            # Create transform for desired out_shape\n",
    "            data = np.array(\n",
    "                rasterio.resize.resize(data, out_shape, resampling=rasterio.enums.Resampling.bilinear),\n",
    "                dtype=np.float32\n",
    "            )\n",
    "            \n",
    "    # Normalize or transform the fuel values as needed\n",
    "    # e.g., min-max normalization or some domain-specific re-scaling\n",
    "    data = (data - data.min()) / (data.max() - data.min() + 1e-6)\n",
    "    return data"
   ]
  },
  {
   "cell_type": "code",
   "execution_count": 5,
   "metadata": {},
   "outputs": [],
   "source": [
    "def load_historic_temperature_data(geotiff_path, bounding_box=None, out_shape=(64, 64)):\n",
    "    \"\"\"\n",
    "    Load and preprocess historic temperature data from a GeoTIFF file.\n",
    "    Similar structure to load_fuel_data.\n",
    "    \"\"\"\n",
    "    import rasterio\n",
    "    \n",
    "    with rasterio.open(geotiff_path) as src:\n",
    "        if bounding_box:\n",
    "            window = rasterio.windows.from_bounds(*bounding_box, transform=src.transform)\n",
    "            temp_data = src.read(1, window=window, out_shape=out_shape, resampling=rasterio.enums.Resampling.bilinear)\n",
    "        else:\n",
    "            temp_data = src.read(1)\n",
    "            temp_data = np.array(\n",
    "                rasterio.resize.resize(temp_data, out_shape, resampling=rasterio.enums.Resampling.bilinear),\n",
    "                dtype=np.float32\n",
    "            )\n",
    "\n",
    "    # Example: Convert from Kelvin to Celsius (if needed), then scale\n",
    "    # Here we assume the data is already in a known range\n",
    "    temp_data = (temp_data - temp_data.min()) / (temp_data.max() - temp_data.min() + 1e-6)\n",
    "    return temp_data"
   ]
  },
  {
   "cell_type": "code",
   "execution_count": 1,
   "metadata": {},
   "outputs": [],
   "source": [
    "def combine_datasets(fuel_array, temp_array):\n",
    "    \"\"\"\n",
    "    Combine 2D arrays of fuel and temperature into a single 3D tensor (64, 64, 2).\n",
    "    \"\"\"\n",
    "    # Ensure both are (64, 64)\n",
    "    assert fuel_array.shape == temp_array.shape, \"Fuel and temperature arrays must match shape.\"\n",
    "    \n",
    "    # Stack along last axis\n",
    "    combined = np.stack([fuel_array, temp_array], axis=-1)  # shape = (64, 64, 2)\n",
    "    return combined"
   ]
  },
  {
   "cell_type": "code",
   "execution_count": null,
   "metadata": {},
   "outputs": [],
   "source": [
    "\n",
    "# Example usage:\n",
    "# Provide paths to your actual USGS GeoTIFFs or other data source\n",
    "fuel_geotiff = \"path/to/usgs_landcover_fuel.tif\"\n",
    "temp_geotiff = \"path/to/historic_temp_data.tif\"\n",
    "\n",
    "# Optional bounding box (minX, minY, maxX, maxY) in coordinate system of the TIFF\n",
    "bbox = (-120.5, 35.0, -120.0, 35.5)  # Dummy bounding box\n",
    "\n",
    "# 1) Load data\n",
    "fuel_array = load_fuel_data(fuel_geotiff, bounding_box=bbox, out_shape=(64, 64))\n",
    "temp_array = load_historic_temperature_data(temp_geotiff, bounding_box=bbox, out_shape=(64, 64))\n",
    "\n",
    "# 2) Combine channels\n",
    "input_data = combine_datasets(fuel_array, temp_array)  # shape: (64, 64, 2)\n",
    "\n",
    "# Expand dims to create a \"batch\" of size 1\n",
    "input_data = np.expand_dims(input_data, axis=0)  # shape: (1, 64, 64, 2)\n",
    "\n",
    "# 3) Create the model\n",
    "model = create_wildfire_cnn(input_shape=(64, 64, 2))\n",
    "model.summary()\n",
    "\n",
    "# 4) Inference or training example\n",
    "#    For training, you'd need labeled data (e.g., known burnt/unburnt outcomes).\n",
    "#    Here we just do a forward pass for demonstration.\n",
    "prediction = model.predict(input_data)\n",
    "print(\"Model output:\", prediction)"
   ]
  }
 ],
 "metadata": {
  "kernelspec": {
   "display_name": "Python 3",
   "language": "python",
   "name": "python3"
  },
  "language_info": {
   "codemirror_mode": {
    "name": "ipython",
    "version": 3
   },
   "file_extension": ".py",
   "mimetype": "text/x-python",
   "name": "python",
   "nbconvert_exporter": "python",
   "pygments_lexer": "ipython3",
   "version": "3.12.2"
  }
 },
 "nbformat": 4,
 "nbformat_minor": 2
}
